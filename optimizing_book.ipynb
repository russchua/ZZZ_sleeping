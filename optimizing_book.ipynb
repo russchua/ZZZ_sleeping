{
 "cells": [
  {
   "cell_type": "code",
   "execution_count": 2,
   "metadata": {},
   "outputs": [],
   "source": [
    "import json\n",
    "import pandas\n",
    "import utils\n",
    "import itertools\n",
    "from itertools import combinations_with_replacement\n",
    "import copy"
   ]
  },
  {
   "cell_type": "markdown",
   "metadata": {},
   "source": [
    "# Get the character_stats, weapon stats and artifact stats that you want"
   ]
  },
  {
   "cell_type": "code",
   "execution_count": 3,
   "metadata": {},
   "outputs": [],
   "source": [
    "character = \"characters/soldier11.json\"\n",
    "weapon = \"weapons/starlight_engine_r5.json\"\n",
    "disk = \"disks_setup/disk_options.json\"\n",
    "# excel_save_name = \"results/ellen_sig.xlsx\"\n",
    "\n",
    "# other constants\n",
    "constants = \"constants.json\"\n",
    "target_path = \"enemies/tyrfing.json\"\n",
    "\n",
    "substat_points = 34\n",
    "\n",
    "damage_combo = [\"ultimate\"]"
   ]
  },
  {
   "cell_type": "markdown",
   "metadata": {},
   "source": [
    "# Real calculations begin"
   ]
  },
  {
   "cell_type": "code",
   "execution_count": 4,
   "metadata": {},
   "outputs": [
    {
     "name": "stdout",
     "output_type": "stream",
     "text": [
      "129239.3895631893\n"
     ]
    }
   ],
   "source": [
    "# load character, weapon, disk, and constants\n",
    "character_stats, base_motion_values, weapon_stats, other_stats = utils.get_stats(character, weapon, disk)\n",
    "disk_stats = utils.evaluate_disk_stat(disk_options = other_stats)\n",
    "total_stats, target_stats = utils.get_total_stats(\n",
    "    character_stats,\n",
    "    weapon_stats,\n",
    "    disk_stats,\n",
    "    target_path\n",
    ")\n",
    "new_mv = utils.motion_to_damage(base_motion_values, total_stats, target_stats)\n",
    "final_damage = utils.combo_to_damage(damage_combo, new_mv)\n",
    "print(final_damage)"
   ]
  },
  {
   "cell_type": "code",
   "execution_count": 5,
   "metadata": {},
   "outputs": [],
   "source": [
    "character_stats, base_motion_values, weapon_stats, other_stats = utils.get_stats(character, weapon, disk)"
   ]
  },
  {
   "cell_type": "code",
   "execution_count": 6,
   "metadata": {},
   "outputs": [
    {
     "name": "stdout",
     "output_type": "stream",
     "text": [
      "139059.11133679998\n",
      "{'disk_4': 'ATK_%', 'disk_5': 'PEN_Ratio', 'disk_6': 'ATK_%'}\n",
      "{'Flat_ATK': 0, 'ATK_%': 0, 'CRIT_Rate': 0, 'CRIT_DMG': 0, 'Flat_PEN': 34}\n"
     ]
    }
   ],
   "source": [
    "def disk_possibilities(\n",
    "    character_stats,\n",
    "    base_motion_values,\n",
    "    weapon_stats,\n",
    "    other_stats,\n",
    "    substat_points = 2,\n",
    "    disk_4_attributes_of_interest = {\n",
    "        \"ATK_%\": 0.3,\n",
    "        \"CRIT_Rate\": 0.24,\n",
    "        \"CRIT_DMG\" : 0.48\n",
    "    },\n",
    "    disk_5_attributes_of_interest = {\n",
    "        \"ATK_%\": 0.3,\n",
    "        \"PEN_Ratio\": 0.24,\n",
    "        \"Elemental_Damage\": 0.3\n",
    "    },\n",
    "    disk_6_attributes_of_interest = {\n",
    "        \"ATK_%\": 0.3\n",
    "    },\n",
    "    sub_attributes_of_interest = {\n",
    "        \"Flat_ATK\": 22,\n",
    "        \"ATK_%\": 0.03,\n",
    "        \"CRIT_Rate\": 0.024,\n",
    "        \"CRIT_DMG\" : 0.048,\n",
    "        \"Flat_PEN\": 9\n",
    "    }\n",
    "):\n",
    "    best_damage = 0\n",
    "    best_allocation = None\n",
    "    for disk_4_allocation in combinations_with_replacement(\n",
    "        disk_4_attributes_of_interest,\n",
    "        1\n",
    "    ):\n",
    "        for disk_5_allocation in combinations_with_replacement(\n",
    "            disk_5_attributes_of_interest,\n",
    "            1\n",
    "        ):\n",
    "            for disk_6_allocation in combinations_with_replacement(\n",
    "                disk_6_attributes_of_interest,\n",
    "                1\n",
    "            ):\n",
    "                main_stat_dict = {\n",
    "                    \"disk_4\": disk_4_allocation[0],\n",
    "                    \"disk_5\": disk_5_allocation[0],\n",
    "                    \"disk_6\": disk_6_allocation[0],\n",
    "                }\n",
    "                for sub_allocation in combinations_with_replacement(sub_attributes_of_interest, substat_points):\n",
    "                    # make a copy of every dictionary in case we directly modify the dictionary\n",
    "                    character_stats_copy = copy.deepcopy(character_stats)\n",
    "                    base_motion_values_copy = copy.deepcopy(base_motion_values)\n",
    "                    weapon_stats_copy = copy.deepcopy(weapon_stats)\n",
    "                    other_stats_copy = copy.deepcopy(other_stats)\n",
    "                    \n",
    "                    # Count occurrences of each substat in the allocation\n",
    "                    substat_allocations = {stat: sub_allocation.count(stat) for stat in sub_attributes_of_interest.keys()}\n",
    "                    # make a copy of every dictionary in case we directly modify the dictionary\n",
    "                    disk_stats = utils.evaluate_disk_stat(\n",
    "                        disk_options = other_stats_copy,\n",
    "                        main_stat_dict = main_stat_dict,\n",
    "                        sub_stat_dict = substat_allocations\n",
    "                    )\n",
    "                    total_stats, target_stats = utils.get_total_stats(\n",
    "                        character_stats_copy,\n",
    "                        weapon_stats_copy,\n",
    "                        disk_stats,\n",
    "                        target_path\n",
    "                    )\n",
    "                    new_mv = utils.motion_to_damage(base_motion_values_copy, total_stats, target_stats)\n",
    "                    final_damage = utils.combo_to_damage(damage_combo, new_mv)\n",
    "                    if final_damage > best_damage:\n",
    "                        best_damage = final_damage\n",
    "                        best_main_stats = main_stat_dict\n",
    "                        best_allocation = substat_allocations\n",
    "                        best_total_stats = total_stats\n",
    "\n",
    "    print(best_damage)\n",
    "    print(best_main_stats)\n",
    "    print(best_allocation)\n",
    "\n",
    "\n",
    "disk_possibilities(\n",
    "    character_stats,\n",
    "    base_motion_values,\n",
    "    weapon_stats,\n",
    "    other_stats,\n",
    "    substat_points = 34)"
   ]
  }
 ],
 "metadata": {
  "kernelspec": {
   "display_name": "pyqt",
   "language": "python",
   "name": "python3"
  },
  "language_info": {
   "codemirror_mode": {
    "name": "ipython",
    "version": 3
   },
   "file_extension": ".py",
   "mimetype": "text/x-python",
   "name": "python",
   "nbconvert_exporter": "python",
   "pygments_lexer": "ipython3",
   "version": "3.11.9"
  }
 },
 "nbformat": 4,
 "nbformat_minor": 2
}
