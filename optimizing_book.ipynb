{
 "cells": [
  {
   "cell_type": "code",
   "execution_count": 1,
   "metadata": {},
   "outputs": [],
   "source": [
    "import json\n",
    "import pandas\n",
    "import utils\n",
    "import itertools\n",
    "from itertools import combinations_with_replacement\n",
    "import copy"
   ]
  },
  {
   "cell_type": "markdown",
   "metadata": {},
   "source": [
    "# Get the character_stats, weapon stats and artifact stats that you want"
   ]
  },
  {
   "cell_type": "code",
   "execution_count": 2,
   "metadata": {},
   "outputs": [],
   "source": [
    "character = \"characters/soldier11.json\"\n",
    "weapon = \"weapons/starlight_engine_r5.json\"\n",
    "disk = \"disks_setup/disk_options.json\"\n",
    "# excel_save_name = \"results/ellen_sig.xlsx\"\n",
    "\n",
    "# other constants\n",
    "constants = \"constants.json\"\n",
    "target_path = \"enemies/tyrfing.json\"\n",
    "\n",
    "substat_points = 34\n",
    "\n",
    "damage_combo = [\"ultimate\"]"
   ]
  },
  {
   "cell_type": "markdown",
   "metadata": {},
   "source": [
    "# Real calculations begin"
   ]
  },
  {
   "cell_type": "code",
   "execution_count": 3,
   "metadata": {},
   "outputs": [
    {
     "name": "stdout",
     "output_type": "stream",
     "text": [
      "129239.3895631893\n"
     ]
    }
   ],
   "source": [
    "# load character, weapon, disk, and constants\n",
    "character_stats, base_motion_values, weapon_stats, other_stats = utils.get_stats(character, weapon, disk)\n",
    "disk_stats = utils.evaluate_disk_stat(disk_options = other_stats)\n",
    "total_stats, target_stats = utils.get_total_stats(\n",
    "    character_stats,\n",
    "    weapon_stats,\n",
    "    disk_stats,\n",
    "    target_path\n",
    ")\n",
    "new_mv = utils.motion_to_damage(base_motion_values, total_stats, target_stats)\n",
    "final_damage = utils.combo_to_damage(damage_combo, new_mv)\n",
    "print(final_damage)"
   ]
  },
  {
   "cell_type": "code",
   "execution_count": 4,
   "metadata": {},
   "outputs": [],
   "source": [
    "character_stats, base_motion_values, weapon_stats, other_stats = utils.get_stats(character, weapon, disk)"
   ]
  },
  {
   "cell_type": "code",
   "execution_count": 5,
   "metadata": {},
   "outputs": [
    {
     "name": "stdout",
     "output_type": "stream",
     "text": [
      "135578.2683865931\n",
      "{'disk_4': 'CRIT_Rate', 'disk_5': 'Elemental_Damage', 'disk_6': 'ATK_%'}\n",
      "{'Flat_ATK': 0, 'ATK_%': 0, 'CRIT_Rate': 13, 'CRIT_DMG': 21, 'Flat_PEN': 0}\n",
      "{'Level': 60, 'Level_Coefficient': 281, 'DEF_Reduction': 0, 'Stun_Bonus': 0, 'Total_HP': 9872.3, 'Total_DEF': 797.3, 'Total_ATK': 3115.868332, 'CRIT_Rate': 0.746, 'CRIT_DMG': 1.508, 'PEN_Ratio': 0, 'Impact': 93, 'Anomaly_Mastery': 94, 'Anomaly_Proficiency': 93, 'Energy_Regen': 1.2, 'Buff_Level_Multiplier': 1.9970999999999999, 'DMG%_Multiplier': 1.625, 'DMG_Taken_Multiplier': 1}\n"
     ]
    }
   ],
   "source": [
    "def disk_possibilities(\n",
    "    character_stats,\n",
    "    base_motion_values,\n",
    "    weapon_stats,\n",
    "    other_stats,\n",
    "    substat_points = 2,\n",
    "    max_per_stat = 4,\n",
    "):\n",
    "    best_damage = 0\n",
    "    best_allocation = None\n",
    "    # Count occurrences of each substat in the allocation\n",
    "    valid_substat_combinations = utils.generate_valid_combinations(\n",
    "        substat_points,\n",
    "        max_per_stat,\n",
    "    )\n",
    "    disk_4_combo, disk_5_combo, disk_6_combo = utils.generate_main_disk_options()\n",
    "    for disk_4_allocation in disk_4_combo:\n",
    "        for disk_5_allocation in disk_5_combo:\n",
    "            for disk_6_allocation in disk_6_combo:\n",
    "                main_stat_dict = {\n",
    "                    \"disk_4\": disk_4_allocation,\n",
    "                    \"disk_5\": disk_5_allocation,\n",
    "                    \"disk_6\": disk_6_allocation,\n",
    "                }\n",
    "                for substat_allocations in valid_substat_combinations:\n",
    "                    # make a copy of every dictionary in case we directly modify the dictionary\n",
    "                    character_stats_copy = copy.deepcopy(character_stats)\n",
    "                    base_motion_values_copy = copy.deepcopy(base_motion_values)\n",
    "                    weapon_stats_copy = copy.deepcopy(weapon_stats)\n",
    "                    other_stats_copy = copy.deepcopy(other_stats)\n",
    "                    \n",
    "                    # make a copy of every dictionary in case we directly modify the dictionary\n",
    "                    disk_stats = utils.evaluate_disk_stat(\n",
    "                        disk_options = other_stats_copy,\n",
    "                        main_stat_dict = main_stat_dict,\n",
    "                        sub_stat_dict = substat_allocations\n",
    "                    )\n",
    "                    total_stats, target_stats = utils.get_total_stats(\n",
    "                        character_stats_copy,\n",
    "                        weapon_stats_copy,\n",
    "                        disk_stats,\n",
    "                        target_path\n",
    "                    )\n",
    "                    new_mv = utils.motion_to_damage(base_motion_values_copy, total_stats, target_stats)\n",
    "                    final_damage = utils.combo_to_damage(damage_combo, new_mv)\n",
    "                    if final_damage > best_damage:\n",
    "                        best_damage = final_damage\n",
    "                        best_main_stats = main_stat_dict\n",
    "                        best_allocation = substat_allocations\n",
    "                        best_total_stats = total_stats\n",
    "\n",
    "    print(best_damage)\n",
    "    print(best_main_stats)\n",
    "    print(best_allocation)\n",
    "    print(best_total_stats)\n",
    "\n",
    "\n",
    "disk_possibilities(\n",
    "    character_stats,\n",
    "    base_motion_values,\n",
    "    weapon_stats,\n",
    "    other_stats,\n",
    "    substat_points = 34,\n",
    "    max_per_stat=24\n",
    ")"
   ]
  }
 ],
 "metadata": {
  "kernelspec": {
   "display_name": "pyqt",
   "language": "python",
   "name": "python3"
  },
  "language_info": {
   "codemirror_mode": {
    "name": "ipython",
    "version": 3
   },
   "file_extension": ".py",
   "mimetype": "text/x-python",
   "name": "python",
   "nbconvert_exporter": "python",
   "pygments_lexer": "ipython3",
   "version": "3.10.9"
  }
 },
 "nbformat": 4,
 "nbformat_minor": 2
}
