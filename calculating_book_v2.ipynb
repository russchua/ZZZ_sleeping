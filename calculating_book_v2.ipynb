{
 "cells": [
  {
   "cell_type": "code",
   "execution_count": 1,
   "metadata": {},
   "outputs": [
    {
     "ename": "ModuleNotFoundError",
     "evalue": "No module named 'scipy'",
     "output_type": "error",
     "traceback": [
      "\u001b[1;31m---------------------------------------------------------------------------\u001b[0m",
      "\u001b[1;31mModuleNotFoundError\u001b[0m                       Traceback (most recent call last)",
      "Cell \u001b[1;32mIn[1], line 3\u001b[0m\n\u001b[0;32m      1\u001b[0m \u001b[38;5;28;01mimport\u001b[39;00m \u001b[38;5;21;01mjson\u001b[39;00m\n\u001b[0;32m      2\u001b[0m \u001b[38;5;28;01mimport\u001b[39;00m \u001b[38;5;21;01mpandas\u001b[39;00m\n\u001b[1;32m----> 3\u001b[0m \u001b[38;5;28;01mfrom\u001b[39;00m \u001b[38;5;21;01mscipy\u001b[39;00m\u001b[38;5;21;01m.\u001b[39;00m\u001b[38;5;21;01moptimize\u001b[39;00m \u001b[38;5;28;01mimport\u001b[39;00m linprog\n",
      "\u001b[1;31mModuleNotFoundError\u001b[0m: No module named 'scipy'"
     ]
    }
   ],
   "source": [
    "import json\n",
    "import pandas"
   ]
  },
  {
   "cell_type": "markdown",
   "metadata": {},
   "source": [
    "# Get the character_stats, weapon stats and artifact stats that you want"
   ]
  },
  {
   "cell_type": "code",
   "execution_count": null,
   "metadata": {},
   "outputs": [],
   "source": [
    "character = \"characters/ellen.json\"\n",
    "weapon = \"weapons/deep_sea_visitor.json\"\n",
    "disk = \"disks_setup/standard.json\"\n",
    "excel_save_name = \"results/ellen_sig.xlsx\"\n",
    "\n",
    "def get_stats(character, weapon, disk):\n",
    "    with open(character) as f:\n",
    "        character_dict = json.load(f)\n",
    "        character_stats = character_dict[\"character_stats\"]\n",
    "        motion_values = character_dict[\"motion_values\"]\n",
    "    with open(weapon) as f:\n",
    "        weapon_stats = json.load(f)\n",
    "    with open(disk) as f:\n",
    "        other_stats = json.load(f)\n",
    "    return character_stats, motion_values, weapon_stats, other_stats\n",
    "\n",
    "character_stats, motion_values, weapon_stats, other_stats = get_stats(character, weapon, disk)\n",
    "\n",
    "anomaly_data = {\n",
    "    \"Fire\": 0.5 * 20,\n",
    "    \"Electric\": 1.25 * 10,\n",
    "    \"Ether\": 0.625 * 20,\n",
    "    \"Ice\": 5,\n",
    "    \"Physical\": 0.5 * 20\n",
    "}\n",
    "\n",
    "target_stats = {\n",
    "    \"Enemy\": \"Tyrfing\",\n",
    "    \"Level\": 70,\n",
    "    \"Scaling_ID\": 1000,\n",
    "    \"Base_DEF\": 36,\n",
    "    \"DEF\": 571.7,\n",
    "    \"Stun_Scaling_ID\": 1003,\n",
    "    \"Base_Stun\": 600,\n",
    "    \"Stun\": 1002,\n",
    "    \"Fire_RES\": 0,\n",
    "    \"Ice_RES\": -0.2,\n",
    "    \"Electric_RES\": 0,\n",
    "    \"Ether_RES\": -0.2,\n",
    "    \"Physical_RES\": 0,\n",
    "    \"Daze_Resist\": 0,\n",
    "    \"Daze_Taken\": 0,\n",
    "    \"Stun_Multiplier\": 1,\n",
    "}"
   ]
  },
  {
   "cell_type": "code",
   "execution_count": null,
   "metadata": {},
   "outputs": [
    {
     "name": "stdout",
     "output_type": "stream",
     "text": [
      "{'Level': 60, 'Level_Coefficient': 281, 'DEF_Reduction': 0, 'Stun_Bonus': 0, 'Total_HP': 9872.3, 'Total_DEF': 789.4, 'Total_ATK': 2908.3997, 'CRIT_Rate': 0.898, 'CRIT_DMG': 1.652, 'PEN_Ratio': 0, 'Impact': 93, 'Anomaly_Mastery': 94, 'Anomaly_Proficiency': 93, 'Energy_Regen': 1.2, 'Buff Level Multiplier': 1.9970999999999999, 'DMG%_Multiplier': 1.55, 'DMG_Taken_Multiplier': 1}\n"
     ]
    }
   ],
   "source": [
    "def get_total_stats(character_stats, weapon_stats, other_stats):\n",
    "    # Complete initialization of total_stats\n",
    "    total_stats = {\n",
    "        \"Level\": 60,\n",
    "        \"Level_Coefficient\": 281,\n",
    "        \"DEF_Reduction\": 0,\n",
    "        \"Stun_Bonus\": 0,\n",
    "    }\n",
    "    total_stats[\"Total_HP\"] = ((character_stats[\"Base_HP\"] + weapon_stats[\"Base_HP\"] ) \\\n",
    "                            * (1 + weapon_stats[\"HP_%\"] + other_stats[\"HP_%\"]) + other_stats[\"Flat_HP\"]) \\\n",
    "                                * (1 + weapon_stats[\"Final_HP_%\"] + other_stats[\"Final_HP_%\"]) + other_stats[\"Final_Flat_HP\"]\n",
    "\n",
    "    total_stats[\"Total_DEF\"] = ((character_stats[\"Base_DEF\"] + weapon_stats[\"Base_DEF\"]) \\\n",
    "                                * (1 + weapon_stats[\"DEF_%\"] + other_stats[\"DEF_%\"]) + other_stats[\"Flat_DEF\"]) \\\n",
    "                                    * (1 + weapon_stats[\"Final_DEF_%\"] + other_stats[\"Final_DEF_%\"]) + other_stats[\"Final_Flat_DEF\"]\n",
    "\n",
    "    total_stats[\"Total_ATK\"] = ((character_stats[\"Base_ATK\"] + weapon_stats[\"Base_ATK\"]) \\\n",
    "                                * (1 + weapon_stats[\"ATK_%\"] + other_stats[\"ATK_%\"]) + other_stats[\"Flat_ATK\"]) \\\n",
    "                                    * (1 + weapon_stats[\"Final_ATK_%\"] + other_stats[\"Final_ATK_%\"]) + other_stats[\"Final_Flat_ATK\"]\n",
    "\n",
    "    total_stats[\"CRIT_Rate\"] = character_stats[\"CRIT_Rate\"] + weapon_stats[\"CRIT_Rate\"] + other_stats[\"CRIT_Rate\"]\n",
    "    total_stats[\"CRIT_DMG\"] = character_stats[\"CRIT_DMG\"] + weapon_stats[\"CRIT_DMG\"] + other_stats[\"CRIT_DMG\"]\n",
    "    total_stats[\"PEN_Ratio\"] = character_stats[\"PEN_Ratio\"] + weapon_stats[\"PEN_Ratio\"] + other_stats[\"PEN_Ratio\"]\n",
    "    total_stats[\"Impact\"] = character_stats[\"Impact\"] + weapon_stats[\"Impact\"]\n",
    "    total_stats[\"Anomaly_Mastery\"] = character_stats[\"Anomaly_Mastery\"] + weapon_stats[\"Anomaly_Mastery\"]\n",
    "    total_stats[\"Anomaly_Proficiency\"] = character_stats[\"Anomaly_Proficiency\"] + other_stats[\"Anomaly Proficiency\"] \\\n",
    "        + weapon_stats[\"Anomaly Proficiency\"]\n",
    "    total_stats[\"Energy_Regen\"] = character_stats[\"Energy_Regen\"] + weapon_stats[\"Energy_Regen\"]\n",
    "\n",
    "\n",
    "    total_stats[\"Buff Level Multiplier\"] = 1 + 0.0169 * (total_stats[\"Level\"] - 1)\n",
    "\n",
    "    total_stats[\"DMG%_Multiplier\"] = 1 + weapon_stats[\"Damage%_Multiplier\"] + other_stats[\"Elemental_Damage\"]\n",
    "    total_stats[\"DMG_Taken_Multiplier\"] = 1\n",
    "    # Complete initialization of target_stats\n",
    "    target_stats[\"Effective_DEF\"] = target_stats[\"DEF\"] * (1 - total_stats[\"PEN_Ratio\"]) - other_stats[\"Flat_PEN\"]\n",
    "    target_stats[\"DEF_Multiplier\"] = total_stats[\"Level_Coefficient\"] / (total_stats[\"Level_Coefficient\"] + target_stats[\"Effective_DEF\"])\n",
    "    return total_stats\n",
    "\n",
    "total_stats = get_total_stats(character_stats, weapon_stats, other_stats)\n",
    "print(total_stats)"
   ]
  },
  {
   "cell_type": "markdown",
   "metadata": {},
   "source": [
    "# Real calculations begin"
   ]
  },
  {
   "cell_type": "code",
   "execution_count": null,
   "metadata": {},
   "outputs": [
    {
     "name": "stdout",
     "output_type": "stream",
     "text": [
      "{'hit_1': {'DMG': 89.3, 'Daze': 35.2, 'Element': 'Physical', 'Base_DMG': 2597.2009321, 'RES_Multiplier': 1, 'Daze_Buildup': 32.736000000000004, 'Average_Outgoing_DMG': 3294.6612651674873}, 'hit_2': {'DMG': 202.0, 'Daze': 122.8, 'Element': 'Physical', 'Base_DMG': 5874.967394, 'RES_Multiplier': 1, 'Daze_Buildup': 114.204, 'Average_Outgoing_DMG': 7452.649222439333}, 'hit_3': {'DMG': 541.2, 'Daze': 339.4, 'Element': 'Physical', 'Base_DMG': 15740.259176400003, 'RES_Multiplier': 1, 'Daze_Buildup': 315.642, 'Average_Outgoing_DMG': 19967.196827644395}, 'e_hit_1': {'DMG': 89.3, 'Daze': 35.2, 'Element': 'Ice', 'Base_DMG': 2597.2009321, 'RES_Multiplier': 0.8, 'Daze_Buildup': 32.736000000000004, 'Average_Outgoing_DMG': 2635.72901213399}, 'e_hit_2': {'DMG': 202.0, 'Daze': 122.8, 'Element': 'Ice', 'Base_DMG': 5874.967394, 'RES_Multiplier': 0.8, 'Daze_Buildup': 114.204, 'Average_Outgoing_DMG': 5962.119377951467}, 'e_hit_3': {'DMG': 541.2, 'Daze': 339.4, 'Element': 'Ice', 'Base_DMG': 15740.259176400003, 'RES_Multiplier': 0.8, 'Daze_Buildup': 315.642, 'Average_Outgoing_DMG': 15973.757462115516}, 'charged_dash_attack': {'DMG': 287.8, 'Daze': 172.1, 'Element': 'Ice', 'Base_DMG': 8370.3743366, 'RES_Multiplier': 0.8, 'Daze_Buildup': 160.053, 'Average_Outgoing_DMG': 8494.544341457586}, 'quick_assist': {'DMG': 221.0, 'Daze': 170.6, 'Element': 'Ice', 'Base_DMG': 6427.563337, 'RES_Multiplier': 0.8, 'Daze_Buildup': 158.658, 'Average_Outgoing_DMG': 6522.912784788486}, 'follow_up': {'DMG': 797.0, 'Daze': 541.4, 'Element': 'Ice', 'Base_DMG': 23179.945609, 'RES_Multiplier': 0.8, 'Daze_Buildup': 503.50199999999995, 'Average_Outgoing_DMG': 23523.807644689696}, 'ex_1': {'DMG': 685.9, 'Daze': 571.6, 'Element': 'Ice', 'Energy_Cost': 40, 'Base_DMG': 19948.7135423, 'RES_Multiplier': 0.8, 'Daze_Buildup': 531.588, 'Average_Outgoing_DMG': 20244.64198681639}, 'ex_2': {'DMG': 1006.0, 'Daze': 523.8, 'Element': 'Ice', 'Energy_Cost': 40, 'Base_DMG': 29258.500982, 'RES_Multiplier': 0.8, 'Daze_Buildup': 487.13399999999996, 'Average_Outgoing_DMG': 29692.53511989691}, 'ultimate': {'DMG': 3437.9, 'Daze': 261.7, 'Element': 'Ice', 'Base_DMG': 99987.87328629999, 'RES_Multiplier': 0.8, 'Daze_Buildup': 243.381, 'Average_Outgoing_DMG': 101471.13965078884}, 'Anomaly_DMG': 11036.683738723412}\n"
     ]
    }
   ],
   "source": [
    "# Iterate through the motion values and calculate the damage\n",
    "def damage_calculator(character_stats, motion_values, weapon_stats, other_stats, target_stats):\n",
    "    # First get the total_stats\n",
    "    total_stats = get_total_stats(character_stats, weapon_stats, other_stats)\n",
    "    # for each attack in motion_values\n",
    "    for key, value in motion_values.items():\n",
    "        motion_values[key][\"Base_DMG\"] = value[\"DMG\"] / 100 * total_stats[\"Total_ATK\"]\n",
    "        motion_values[key][\"RES_Multiplier\"] = 1 + target_stats[value[\"Element\"] + \"_RES\"]\n",
    "        motion_values[key][\"Daze_Buildup\"] = value[\"Daze\"] / 100 * total_stats[\"Impact\"] * (1 - target_stats[\"Daze_Resist\"]) * (1 + total_stats[\"Stun_Bonus\"])\n",
    "        \n",
    "        motion_values[key][\"Average_Outgoing_DMG\"] = motion_values[key][\"Base_DMG\"] \\\n",
    "            * total_stats[\"DMG%_Multiplier\"] \\\n",
    "            * total_stats[\"DMG_Taken_Multiplier\"] \\\n",
    "            * target_stats[\"DEF_Multiplier\"] \\\n",
    "            * motion_values[key][\"RES_Multiplier\"] \\\n",
    "            * target_stats[\"Stun_Multiplier\"] \\\n",
    "            * (1 + total_stats[\"CRIT_Rate\"] * total_stats[\"CRIT_DMG\"])\n",
    "\n",
    "    # Add anomaly damage to the motion_values\n",
    "    motion_values[\"Anomaly_DMG\"] = (anomaly_data[character_stats[\"Element\"]] * total_stats[\"Total_ATK\"]) \\\n",
    "        * total_stats[\"DMG%_Multiplier\"] \\\n",
    "        * target_stats[\"DEF_Multiplier\"] \\\n",
    "        * (1 + target_stats[character_stats[\"Element\"] + \"_RES\"]) \\\n",
    "        * total_stats[\"DMG_Taken_Multiplier\"] \\\n",
    "        * target_stats[\"Stun_Multiplier\"] \\\n",
    "        * total_stats[\"Anomaly_Proficiency\"]/100 \\\n",
    "        * total_stats[\"Buff Level Multiplier\"]\n",
    "    return motion_values\n",
    "\n",
    "motion_values = damage_calculator(character_stats, motion_values, weapon_stats, other_stats, target_stats)\n",
    "print(motion_values)"
   ]
  },
  {
   "cell_type": "code",
   "execution_count": null,
   "metadata": {},
   "outputs": [
    {
     "name": "stdout",
     "output_type": "stream",
     "text": [
      "                            hit_1        hit_2         hit_3      e_hit_1  \\\n",
      "DMG                          89.3        202.0         541.2         89.3   \n",
      "Daze                         35.2        122.8         339.4         35.2   \n",
      "Element                  Physical     Physical      Physical          Ice   \n",
      "Base_DMG              2597.200932  5874.967394  15740.259176  2597.200932   \n",
      "RES_Multiplier                  1            1             1          0.8   \n",
      "Daze_Buildup               32.736      114.204       315.642       32.736   \n",
      "Average_Outgoing_DMG  3294.661265  7452.649222  19967.196828  2635.729012   \n",
      "Energy_Cost                   NaN          NaN           NaN          NaN   \n",
      "\n",
      "                          e_hit_2       e_hit_3 charged_dash_attack  \\\n",
      "DMG                         202.0         541.2               287.8   \n",
      "Daze                        122.8         339.4               172.1   \n",
      "Element                       Ice           Ice                 Ice   \n",
      "Base_DMG              5874.967394  15740.259176         8370.374337   \n",
      "RES_Multiplier                0.8           0.8                 0.8   \n",
      "Daze_Buildup              114.204       315.642             160.053   \n",
      "Average_Outgoing_DMG  5962.119378  15973.757462         8494.544341   \n",
      "Energy_Cost                   NaN           NaN                 NaN   \n",
      "\n",
      "                     quick_assist     follow_up          ex_1          ex_2  \\\n",
      "DMG                         221.0         797.0         685.9        1006.0   \n",
      "Daze                        170.6         541.4         571.6         523.8   \n",
      "Element                       Ice           Ice           Ice           Ice   \n",
      "Base_DMG              6427.563337  23179.945609  19948.713542  29258.500982   \n",
      "RES_Multiplier                0.8           0.8           0.8           0.8   \n",
      "Daze_Buildup              158.658       503.502       531.588       487.134   \n",
      "Average_Outgoing_DMG  6522.912785  23523.807645  20244.641987   29692.53512   \n",
      "Energy_Cost                   NaN           NaN            40            40   \n",
      "\n",
      "                           ultimate   Anomaly_DMG  \n",
      "DMG                          3437.9  11036.683739  \n",
      "Daze                          261.7  11036.683739  \n",
      "Element                         Ice  11036.683739  \n",
      "Base_DMG               99987.873286  11036.683739  \n",
      "RES_Multiplier                  0.8  11036.683739  \n",
      "Daze_Buildup                243.381  11036.683739  \n",
      "Average_Outgoing_DMG  101471.139651  11036.683739  \n",
      "Energy_Cost                     NaN  11036.683739  \n"
     ]
    },
    {
     "ename": "PermissionError",
     "evalue": "[Errno 13] Permission denied: 'results/ellen_sig.xlsx'",
     "output_type": "error",
     "traceback": [
      "\u001b[1;31m---------------------------------------------------------------------------\u001b[0m",
      "\u001b[1;31mPermissionError\u001b[0m                           Traceback (most recent call last)",
      "Cell \u001b[1;32mIn[27], line 6\u001b[0m\n\u001b[0;32m      4\u001b[0m \u001b[38;5;28mprint\u001b[39m(df)\n\u001b[0;32m      5\u001b[0m \u001b[38;5;66;03m# Create an excel sheet for this calculation\u001b[39;00m\n\u001b[1;32m----> 6\u001b[0m \u001b[43mdf\u001b[49m\u001b[38;5;241;43m.\u001b[39;49m\u001b[43mto_excel\u001b[49m\u001b[43m(\u001b[49m\u001b[43mexcel_save_name\u001b[49m\u001b[43m)\u001b[49m\n",
      "File \u001b[1;32mc:\\Users\\Russ\\anaconda3\\envs\\web_scrape\\lib\\site-packages\\pandas\\util\\_decorators.py:333\u001b[0m, in \u001b[0;36mdeprecate_nonkeyword_arguments.<locals>.decorate.<locals>.wrapper\u001b[1;34m(*args, **kwargs)\u001b[0m\n\u001b[0;32m    327\u001b[0m \u001b[38;5;28;01mif\u001b[39;00m \u001b[38;5;28mlen\u001b[39m(args) \u001b[38;5;241m>\u001b[39m num_allow_args:\n\u001b[0;32m    328\u001b[0m     warnings\u001b[38;5;241m.\u001b[39mwarn(\n\u001b[0;32m    329\u001b[0m         msg\u001b[38;5;241m.\u001b[39mformat(arguments\u001b[38;5;241m=\u001b[39m_format_argument_list(allow_args)),\n\u001b[0;32m    330\u001b[0m         \u001b[38;5;167;01mFutureWarning\u001b[39;00m,\n\u001b[0;32m    331\u001b[0m         stacklevel\u001b[38;5;241m=\u001b[39mfind_stack_level(),\n\u001b[0;32m    332\u001b[0m     )\n\u001b[1;32m--> 333\u001b[0m \u001b[38;5;28;01mreturn\u001b[39;00m func(\u001b[38;5;241m*\u001b[39margs, \u001b[38;5;241m*\u001b[39m\u001b[38;5;241m*\u001b[39mkwargs)\n",
      "File \u001b[1;32mc:\\Users\\Russ\\anaconda3\\envs\\web_scrape\\lib\\site-packages\\pandas\\core\\generic.py:2414\u001b[0m, in \u001b[0;36mNDFrame.to_excel\u001b[1;34m(self, excel_writer, sheet_name, na_rep, float_format, columns, header, index, index_label, startrow, startcol, engine, merge_cells, inf_rep, freeze_panes, storage_options, engine_kwargs)\u001b[0m\n\u001b[0;32m   2401\u001b[0m \u001b[38;5;28;01mfrom\u001b[39;00m \u001b[38;5;21;01mpandas\u001b[39;00m\u001b[38;5;21;01m.\u001b[39;00m\u001b[38;5;21;01mio\u001b[39;00m\u001b[38;5;21;01m.\u001b[39;00m\u001b[38;5;21;01mformats\u001b[39;00m\u001b[38;5;21;01m.\u001b[39;00m\u001b[38;5;21;01mexcel\u001b[39;00m \u001b[38;5;28;01mimport\u001b[39;00m ExcelFormatter\n\u001b[0;32m   2403\u001b[0m formatter \u001b[38;5;241m=\u001b[39m ExcelFormatter(\n\u001b[0;32m   2404\u001b[0m     df,\n\u001b[0;32m   2405\u001b[0m     na_rep\u001b[38;5;241m=\u001b[39mna_rep,\n\u001b[1;32m   (...)\u001b[0m\n\u001b[0;32m   2412\u001b[0m     inf_rep\u001b[38;5;241m=\u001b[39minf_rep,\n\u001b[0;32m   2413\u001b[0m )\n\u001b[1;32m-> 2414\u001b[0m \u001b[43mformatter\u001b[49m\u001b[38;5;241;43m.\u001b[39;49m\u001b[43mwrite\u001b[49m\u001b[43m(\u001b[49m\n\u001b[0;32m   2415\u001b[0m \u001b[43m    \u001b[49m\u001b[43mexcel_writer\u001b[49m\u001b[43m,\u001b[49m\n\u001b[0;32m   2416\u001b[0m \u001b[43m    \u001b[49m\u001b[43msheet_name\u001b[49m\u001b[38;5;241;43m=\u001b[39;49m\u001b[43msheet_name\u001b[49m\u001b[43m,\u001b[49m\n\u001b[0;32m   2417\u001b[0m \u001b[43m    \u001b[49m\u001b[43mstartrow\u001b[49m\u001b[38;5;241;43m=\u001b[39;49m\u001b[43mstartrow\u001b[49m\u001b[43m,\u001b[49m\n\u001b[0;32m   2418\u001b[0m \u001b[43m    \u001b[49m\u001b[43mstartcol\u001b[49m\u001b[38;5;241;43m=\u001b[39;49m\u001b[43mstartcol\u001b[49m\u001b[43m,\u001b[49m\n\u001b[0;32m   2419\u001b[0m \u001b[43m    \u001b[49m\u001b[43mfreeze_panes\u001b[49m\u001b[38;5;241;43m=\u001b[39;49m\u001b[43mfreeze_panes\u001b[49m\u001b[43m,\u001b[49m\n\u001b[0;32m   2420\u001b[0m \u001b[43m    \u001b[49m\u001b[43mengine\u001b[49m\u001b[38;5;241;43m=\u001b[39;49m\u001b[43mengine\u001b[49m\u001b[43m,\u001b[49m\n\u001b[0;32m   2421\u001b[0m \u001b[43m    \u001b[49m\u001b[43mstorage_options\u001b[49m\u001b[38;5;241;43m=\u001b[39;49m\u001b[43mstorage_options\u001b[49m\u001b[43m,\u001b[49m\n\u001b[0;32m   2422\u001b[0m \u001b[43m    \u001b[49m\u001b[43mengine_kwargs\u001b[49m\u001b[38;5;241;43m=\u001b[39;49m\u001b[43mengine_kwargs\u001b[49m\u001b[43m,\u001b[49m\n\u001b[0;32m   2423\u001b[0m \u001b[43m\u001b[49m\u001b[43m)\u001b[49m\n",
      "File \u001b[1;32mc:\\Users\\Russ\\anaconda3\\envs\\web_scrape\\lib\\site-packages\\pandas\\io\\formats\\excel.py:943\u001b[0m, in \u001b[0;36mExcelFormatter.write\u001b[1;34m(self, writer, sheet_name, startrow, startcol, freeze_panes, engine, storage_options, engine_kwargs)\u001b[0m\n\u001b[0;32m    941\u001b[0m     need_save \u001b[38;5;241m=\u001b[39m \u001b[38;5;28;01mFalse\u001b[39;00m\n\u001b[0;32m    942\u001b[0m \u001b[38;5;28;01melse\u001b[39;00m:\n\u001b[1;32m--> 943\u001b[0m     writer \u001b[38;5;241m=\u001b[39m \u001b[43mExcelWriter\u001b[49m\u001b[43m(\u001b[49m\n\u001b[0;32m    944\u001b[0m \u001b[43m        \u001b[49m\u001b[43mwriter\u001b[49m\u001b[43m,\u001b[49m\n\u001b[0;32m    945\u001b[0m \u001b[43m        \u001b[49m\u001b[43mengine\u001b[49m\u001b[38;5;241;43m=\u001b[39;49m\u001b[43mengine\u001b[49m\u001b[43m,\u001b[49m\n\u001b[0;32m    946\u001b[0m \u001b[43m        \u001b[49m\u001b[43mstorage_options\u001b[49m\u001b[38;5;241;43m=\u001b[39;49m\u001b[43mstorage_options\u001b[49m\u001b[43m,\u001b[49m\n\u001b[0;32m    947\u001b[0m \u001b[43m        \u001b[49m\u001b[43mengine_kwargs\u001b[49m\u001b[38;5;241;43m=\u001b[39;49m\u001b[43mengine_kwargs\u001b[49m\u001b[43m,\u001b[49m\n\u001b[0;32m    948\u001b[0m \u001b[43m    \u001b[49m\u001b[43m)\u001b[49m\n\u001b[0;32m    949\u001b[0m     need_save \u001b[38;5;241m=\u001b[39m \u001b[38;5;28;01mTrue\u001b[39;00m\n\u001b[0;32m    951\u001b[0m \u001b[38;5;28;01mtry\u001b[39;00m:\n",
      "File \u001b[1;32mc:\\Users\\Russ\\anaconda3\\envs\\web_scrape\\lib\\site-packages\\pandas\\io\\excel\\_openpyxl.py:61\u001b[0m, in \u001b[0;36mOpenpyxlWriter.__init__\u001b[1;34m(self, path, engine, date_format, datetime_format, mode, storage_options, if_sheet_exists, engine_kwargs, **kwargs)\u001b[0m\n\u001b[0;32m     57\u001b[0m \u001b[38;5;28;01mfrom\u001b[39;00m \u001b[38;5;21;01mopenpyxl\u001b[39;00m\u001b[38;5;21;01m.\u001b[39;00m\u001b[38;5;21;01mworkbook\u001b[39;00m \u001b[38;5;28;01mimport\u001b[39;00m Workbook\n\u001b[0;32m     59\u001b[0m engine_kwargs \u001b[38;5;241m=\u001b[39m combine_kwargs(engine_kwargs, kwargs)\n\u001b[1;32m---> 61\u001b[0m \u001b[38;5;28;43msuper\u001b[39;49m\u001b[43m(\u001b[49m\u001b[43m)\u001b[49m\u001b[38;5;241;43m.\u001b[39;49m\u001b[38;5;21;43m__init__\u001b[39;49m\u001b[43m(\u001b[49m\n\u001b[0;32m     62\u001b[0m \u001b[43m    \u001b[49m\u001b[43mpath\u001b[49m\u001b[43m,\u001b[49m\n\u001b[0;32m     63\u001b[0m \u001b[43m    \u001b[49m\u001b[43mmode\u001b[49m\u001b[38;5;241;43m=\u001b[39;49m\u001b[43mmode\u001b[49m\u001b[43m,\u001b[49m\n\u001b[0;32m     64\u001b[0m \u001b[43m    \u001b[49m\u001b[43mstorage_options\u001b[49m\u001b[38;5;241;43m=\u001b[39;49m\u001b[43mstorage_options\u001b[49m\u001b[43m,\u001b[49m\n\u001b[0;32m     65\u001b[0m \u001b[43m    \u001b[49m\u001b[43mif_sheet_exists\u001b[49m\u001b[38;5;241;43m=\u001b[39;49m\u001b[43mif_sheet_exists\u001b[49m\u001b[43m,\u001b[49m\n\u001b[0;32m     66\u001b[0m \u001b[43m    \u001b[49m\u001b[43mengine_kwargs\u001b[49m\u001b[38;5;241;43m=\u001b[39;49m\u001b[43mengine_kwargs\u001b[49m\u001b[43m,\u001b[49m\n\u001b[0;32m     67\u001b[0m \u001b[43m\u001b[49m\u001b[43m)\u001b[49m\n\u001b[0;32m     69\u001b[0m \u001b[38;5;66;03m# ExcelWriter replaced \"a\" by \"r+\" to allow us to first read the excel file from\u001b[39;00m\n\u001b[0;32m     70\u001b[0m \u001b[38;5;66;03m# the file and later write to it\u001b[39;00m\n\u001b[0;32m     71\u001b[0m \u001b[38;5;28;01mif\u001b[39;00m \u001b[38;5;124m\"\u001b[39m\u001b[38;5;124mr+\u001b[39m\u001b[38;5;124m\"\u001b[39m \u001b[38;5;129;01min\u001b[39;00m \u001b[38;5;28mself\u001b[39m\u001b[38;5;241m.\u001b[39m_mode:  \u001b[38;5;66;03m# Load from existing workbook\u001b[39;00m\n",
      "File \u001b[1;32mc:\\Users\\Russ\\anaconda3\\envs\\web_scrape\\lib\\site-packages\\pandas\\io\\excel\\_base.py:1246\u001b[0m, in \u001b[0;36mExcelWriter.__init__\u001b[1;34m(self, path, engine, date_format, datetime_format, mode, storage_options, if_sheet_exists, engine_kwargs)\u001b[0m\n\u001b[0;32m   1242\u001b[0m \u001b[38;5;28mself\u001b[39m\u001b[38;5;241m.\u001b[39m_handles \u001b[38;5;241m=\u001b[39m IOHandles(\n\u001b[0;32m   1243\u001b[0m     cast(IO[\u001b[38;5;28mbytes\u001b[39m], path), compression\u001b[38;5;241m=\u001b[39m{\u001b[38;5;124m\"\u001b[39m\u001b[38;5;124mcompression\u001b[39m\u001b[38;5;124m\"\u001b[39m: \u001b[38;5;28;01mNone\u001b[39;00m}\n\u001b[0;32m   1244\u001b[0m )\n\u001b[0;32m   1245\u001b[0m \u001b[38;5;28;01mif\u001b[39;00m \u001b[38;5;129;01mnot\u001b[39;00m \u001b[38;5;28misinstance\u001b[39m(path, ExcelWriter):\n\u001b[1;32m-> 1246\u001b[0m     \u001b[38;5;28mself\u001b[39m\u001b[38;5;241m.\u001b[39m_handles \u001b[38;5;241m=\u001b[39m \u001b[43mget_handle\u001b[49m\u001b[43m(\u001b[49m\n\u001b[0;32m   1247\u001b[0m \u001b[43m        \u001b[49m\u001b[43mpath\u001b[49m\u001b[43m,\u001b[49m\u001b[43m \u001b[49m\u001b[43mmode\u001b[49m\u001b[43m,\u001b[49m\u001b[43m \u001b[49m\u001b[43mstorage_options\u001b[49m\u001b[38;5;241;43m=\u001b[39;49m\u001b[43mstorage_options\u001b[49m\u001b[43m,\u001b[49m\u001b[43m \u001b[49m\u001b[43mis_text\u001b[49m\u001b[38;5;241;43m=\u001b[39;49m\u001b[38;5;28;43;01mFalse\u001b[39;49;00m\n\u001b[0;32m   1248\u001b[0m \u001b[43m    \u001b[49m\u001b[43m)\u001b[49m\n\u001b[0;32m   1249\u001b[0m \u001b[38;5;28mself\u001b[39m\u001b[38;5;241m.\u001b[39m_cur_sheet \u001b[38;5;241m=\u001b[39m \u001b[38;5;28;01mNone\u001b[39;00m\n\u001b[0;32m   1251\u001b[0m \u001b[38;5;28;01mif\u001b[39;00m date_format \u001b[38;5;129;01mis\u001b[39;00m \u001b[38;5;28;01mNone\u001b[39;00m:\n",
      "File \u001b[1;32mc:\\Users\\Russ\\anaconda3\\envs\\web_scrape\\lib\\site-packages\\pandas\\io\\common.py:882\u001b[0m, in \u001b[0;36mget_handle\u001b[1;34m(path_or_buf, mode, encoding, compression, memory_map, is_text, errors, storage_options)\u001b[0m\n\u001b[0;32m    873\u001b[0m         handle \u001b[38;5;241m=\u001b[39m \u001b[38;5;28mopen\u001b[39m(\n\u001b[0;32m    874\u001b[0m             handle,\n\u001b[0;32m    875\u001b[0m             ioargs\u001b[38;5;241m.\u001b[39mmode,\n\u001b[1;32m   (...)\u001b[0m\n\u001b[0;32m    878\u001b[0m             newline\u001b[38;5;241m=\u001b[39m\u001b[38;5;124m\"\u001b[39m\u001b[38;5;124m\"\u001b[39m,\n\u001b[0;32m    879\u001b[0m         )\n\u001b[0;32m    880\u001b[0m     \u001b[38;5;28;01melse\u001b[39;00m:\n\u001b[0;32m    881\u001b[0m         \u001b[38;5;66;03m# Binary mode\u001b[39;00m\n\u001b[1;32m--> 882\u001b[0m         handle \u001b[38;5;241m=\u001b[39m \u001b[38;5;28;43mopen\u001b[39;49m\u001b[43m(\u001b[49m\u001b[43mhandle\u001b[49m\u001b[43m,\u001b[49m\u001b[43m \u001b[49m\u001b[43mioargs\u001b[49m\u001b[38;5;241;43m.\u001b[39;49m\u001b[43mmode\u001b[49m\u001b[43m)\u001b[49m\n\u001b[0;32m    883\u001b[0m     handles\u001b[38;5;241m.\u001b[39mappend(handle)\n\u001b[0;32m    885\u001b[0m \u001b[38;5;66;03m# Convert BytesIO or file objects passed with an encoding\u001b[39;00m\n",
      "\u001b[1;31mPermissionError\u001b[0m: [Errno 13] Permission denied: 'results/ellen_sig.xlsx'"
     ]
    }
   ],
   "source": [
    "# Show in pandas dataframe\n",
    "import pandas as pd\n",
    "df = pd.DataFrame(motion_values)\n",
    "print(df)\n",
    "# Create an excel sheet for this calculation\n",
    "df.to_excel(excel_save_name)"
   ]
  },
  {
   "cell_type": "code",
   "execution_count": null,
   "metadata": {},
   "outputs": [],
   "source": [
    "# Define a class for the model with trainable main stat and sub stats\n",
    "class DamageModel(torch.nn.Module):\n",
    "  def __init__(self):\n",
    "    super(DamageModel, self).__init__()\n",
    "    self.main_stat = torch.nn.Parameter(torch.tensor(main_stat_value))\n",
    "    self.sub_stats = torch.nn.Parameter(sub_stats)\n",
    "\n",
    "  def forward(self):\n",
    "    # Access character stats and perform damage calculation\n",
    "    damage = damage_calculator(character_stats_tensor, self.main_stat, self.sub_stats)\n",
    "    return damage\n",
    "\n",
    "# Create the model instance\n",
    "model = DamageModel()\n",
    "\n",
    "# Define loss function with L1 regularization (adjust alpha as needed)\n",
    "alpha = 0.1\n",
    "def loss_function(damage):\n",
    "  return -damage + alpha * torch.sum(torch.abs(model.sub_stats))\n",
    "\n",
    "# Optimizer\n",
    "optimizer = torch.optim.Adam(model.parameters(), lr=0.01)\n",
    "\n",
    "# Training loop\n",
    "for epoch in range(1000):\n",
    "  # Forward pass\n",
    "  damage = model()\n",
    "\n",
    "  # Calculate loss\n",
    "  loss = loss_function(damage)\n",
    "\n",
    "  # Backward pass and optimize\n",
    "  optimizer.zero_grad()\n",
    "  loss.backward()\n",
    "  optimizer.step()"
   ]
  }
 ],
 "metadata": {
  "kernelspec": {
   "display_name": "pyqt",
   "language": "python",
   "name": "python3"
  },
  "language_info": {
   "codemirror_mode": {
    "name": "ipython",
    "version": 3
   },
   "file_extension": ".py",
   "mimetype": "text/x-python",
   "name": "python",
   "nbconvert_exporter": "python",
   "pygments_lexer": "ipython3",
   "version": "3.10.4"
  }
 },
 "nbformat": 4,
 "nbformat_minor": 2
}
